{
 "cells": [
  {
   "cell_type": "markdown",
   "id": "bb0f0447-a289-4162-9bff-0cb1b8940764",
   "metadata": {
    "editable": true,
    "slideshow": {
     "slide_type": ""
    },
    "tags": []
   },
   "source": [
    "# napari-imagegrains Statistical analysis\n",
    "\n",
    "This widget allows you to post-process the segmentation resuslts to compute statistical information about imagegrains."
   ]
  },
  {
   "cell_type": "code",
   "execution_count": null,
   "id": "4d9ec0e5-d61a-41d6-ac53-b61a81da4e98",
   "metadata": {
    "editable": true,
    "slideshow": {
     "slide_type": ""
    },
    "tags": []
   },
   "outputs": [],
   "source": []
  }
 ],
 "metadata": {
  "kernelspec": {
   "display_name": "Python 3 (ipykernel)",
   "language": "python",
   "name": "python3"
  },
  "language_info": {
   "codemirror_mode": {
    "name": "ipython",
    "version": 3
   },
   "file_extension": ".py",
   "mimetype": "text/x-python",
   "name": "python",
   "nbconvert_exporter": "python",
   "pygments_lexer": "ipython3",
   "version": "3.11.12"
  }
 },
 "nbformat": 4,
 "nbformat_minor": 5
}
